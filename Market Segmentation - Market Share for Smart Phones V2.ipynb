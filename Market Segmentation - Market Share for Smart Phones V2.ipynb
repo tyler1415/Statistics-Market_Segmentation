{
 "cells": [
  {
   "cell_type": "markdown",
   "id": "b2db6aa2",
   "metadata": {},
   "source": [
    "# Import Libraries"
   ]
  },
  {
   "cell_type": "code",
   "execution_count": 10,
   "id": "e8c6d051",
   "metadata": {},
   "outputs": [],
   "source": [
    "import numpy as np\n",
    "import pandas as pd\n",
    "import matplotlib.pyplot as plt"
   ]
  },
  {
   "cell_type": "markdown",
   "id": "4e4eac97",
   "metadata": {},
   "source": [
    "# Narrative and Problem Solving"
   ]
  },
  {
   "cell_type": "markdown",
   "id": "2ace4186",
   "metadata": {},
   "source": [
    "The chi-square goodness of fit test can be used to determine whether a random variable has a specific probability distribution. \n",
    "\n",
    "A multinomial probability distributiion is an extension of the binomial probability distribution of the case where there are three or more categories of outcomes per trial.  The category probabilities are the key paramters of the multinomial distribution. For an application of a goodness of fit test to a multinomial probability distribution, refer to the market share for the smart phone industry.\n",
    "\n",
    "Let's assume that market shares for smart phones have stabilized at 30% for Samsung, 50% for Apple, and 20% for Google. Since each customer is classified as buying from one of these companies, we have a multinomial probability distribution with three possible categories of outcomes. The probability for each of the three categories is as follows.\n",
    "\n",
    "Pa = probability a customer purchases a Samsung phone\n",
    "Pb = probability a customer purchases an Apple phone\n",
    "Pc = probability a customer purchases a Google phone\n",
    "\n",
    "Using the historical market shares, we have a multinomial probability distribution with Pa = .30, Pb = .50, and Pc = .20.\n",
    "\n",
    "Google has introduced a new phone to replace its current entry in the market. Market research was conducted to determine if the new phone will change the market shares for the three companies. A sample of customers will be introduced to the new product and the most recent products from Samsung and Apple. Based on the same data, the following hypothesis test can be used to deterine whether the new phone is likely to change the historical market shares for the three companies. \n",
    "\n",
    "Ho = Pa = .30, Pb = .50, and Pc = .20\n",
    "Ha = the probabilities are not Pa = .30, Pb = .50, and Pc = .20\n",
    "\n",
    "The null hypothesis is based on the historical multinomial probability distribution for the market shares. If sample results lead to the rejection of Ho, we will have evidence to conclude that the introduction of the new phone will change the market shares.\n",
    "\n",
    "Market research resulted in 200 customers answering survey questions. Each customer was asked to specify a purchase preference among the three phones -- that is, Google's new phone, Samsung's most recent phone, and Apple's most recent phone. The 200 responses are summarized in the following frequency distribution. "
   ]
  },
  {
   "cell_type": "code",
   "execution_count": 5,
   "id": "76362d3b",
   "metadata": {},
   "outputs": [
    {
     "name": "stdout",
     "output_type": "stream",
     "text": [
      "Total Responses equal: 200\n"
     ]
    }
   ],
   "source": [
    "# observed frequency from responses\n",
    "observed_fequency_samsung = 48\n",
    "observed_fequency_apple = 98\n",
    "observed_fequency_google = 54\n",
    "\n",
    "total = observed_fequency_samsung + observed_fequency_apple + observed_fequency_google\n",
    "print(\"Total Responses equal:\",total)"
   ]
  },
  {
   "cell_type": "markdown",
   "id": "3e675d04",
   "metadata": {},
   "source": [
    "With the responses recorded, we can now determine whether the sample of 200 customer purchase preferences is consistent with the null hypothesis. The goodness of fit test is based on a comparison of observed frequencies from the sample with the expected frequencies under the assumption that the null hypothesis is true. The next step is to calculate the expected frequncy."
   ]
  },
  {
   "cell_type": "code",
   "execution_count": 8,
   "id": "7b8a26d4",
   "metadata": {},
   "outputs": [
    {
     "name": "stdout",
     "output_type": "stream",
     "text": [
      "Total Responses equal: 200\n"
     ]
    }
   ],
   "source": [
    "expected_fequency_samsung = 200*.30\n",
    "expected_fequency_apple = 200*.50\n",
    "expected_fequency_google = 200*.20\n",
    "\n",
    "total = expected_fequency_samsung + expected_fequency_apple + expected_fequency_google\n",
    "print(\"Total Responses equal:\",round(total))"
   ]
  },
  {
   "cell_type": "code",
   "execution_count": null,
   "id": "7745ad20",
   "metadata": {},
   "outputs": [],
   "source": [
    "The goodness of fit test focuses on the differences between the observed frequencies and the expected frequencies. \n",
    "Whether the differences between the observed and expected frequencies are large or small is a question answered \n",
    "through the chi-square test statistic (See: formula below). \n",
    "\n",
    "                  \n",
    "          k       (Oi - Ei)^2\n",
    "x^2 = Summation ---------------\n",
    "         i=1          Ei\n",
    "\n",
    "where:\n",
    "\n",
    "Oi = observed frequency for category i\n",
    "Ei = expected frequency for category i \n",
    "k = the number of categories\n",
    "\n",
    "Note: The test statistic has a chi square distribution with K-1 degreees of freedom provided that the expected \n",
    "frequencies are 5 or more for all cateogires. "
   ]
  },
  {
   "cell_type": "code",
   "execution_count": 9,
   "id": "8d54d999",
   "metadata": {},
   "outputs": [
    {
     "name": "stdout",
     "output_type": "stream",
     "text": [
      "The chi square test statistic is: 7.34\n"
     ]
    }
   ],
   "source": [
    "# Computation of the chi-square test statistic for market segmentation problem for smart phones\n",
    "\n",
    "# Hypothesized probability\n",
    "hypothesized_probability_samsung = .30\n",
    "hypothesized_probability_apple = .50\n",
    "hypothesized_probability_google = .20\n",
    "\n",
    "# Observed frequency\n",
    "observed_fequency_samsung = 48\n",
    "observed_fequency_apple = 98\n",
    "observed_fequency_google = 54\n",
    "\n",
    "# Expected Frequency\n",
    "expected_fequency_samsung = 200*.30\n",
    "expected_fequency_apple = 200*.50\n",
    "expected_fequency_google = 200*.20\n",
    "\n",
    "# Difference \n",
    "difference_samsung = observed_fequency_samsung - expected_fequency_samsung\n",
    "difference_apple = observed_fequency_apple - expected_fequency_apple\n",
    "difference_google = observed_fequency_google - expected_fequency_google\n",
    "\n",
    "# Squared Difference \n",
    "difference_samsung = difference_samsung**2\n",
    "difference_apple = difference_apple**2\n",
    "difference_google = difference_google**2\n",
    "    \n",
    "# Squared difference divided by expected frequnecy (test statistic for goodness of fit)\n",
    "final_calc_samsung = difference_samsung/expected_fequency_samsung\n",
    "final_calc_apple = difference_apple/expected_fequency_apple\n",
    "final_calc_google = difference_google/expected_fequency_google\n",
    "\n",
    "# Add calcualtions together to return chi_square_test_statistic\n",
    "chi_square_test_statistic = final_calc_samsung + final_calc_apple + final_calc_google\n",
    "print(\"The chi square test statistic is:\",chi_square_test_statistic)"
   ]
  },
  {
   "cell_type": "code",
   "execution_count": null,
   "id": "3e35063c",
   "metadata": {},
   "outputs": [],
   "source": [
    "The test for goodness of fit is always a one-tailed test with the rejection occurring in the upper tail of the chi-square distribution.We can use the upper tail area for the test statistic and the p value approach to determine whether the null hpothesis can be rejected. With K-1 (3-1) = 2 degrees of freedom, refer below for the information the chi-square distribution provides.\n",
    "\n",
    "Area in Upper Tail  |  .10      .05    .025     .01     .005\n",
    "------------------------------------------------------------------------\n",
    "x^2 Value (2 df)    |  4.605   5.991   7.378   9.210   10.597\n",
    "\n",
    "                                      ^ x^2 = 7.34\n",
    "\n",
    "An alpha value of 0.05 is used for this problem. The test statistic x^2 = 7.34 is between 5.991 and 7.378. \n",
    "Therefore, the corresponding upper tail area or p value must be between 0.05 and 0.025. With p-value <= 0.05, \n",
    "we reject the null hypothesis and conclude that the introduction of the new product by Google will alter \n",
    "the historical market share for smart phones. \n",
    "\n",
    "Now that we have concluded that the introduction of the new phone by Google will alter the market shares \n",
    "for the three companies, we are interested in knowing more about how the market shares are likely to change. \n",
    "Using hisotrical market shares and the sample data, we can summarize the following:"
   ]
  },
  {
   "cell_type": "code",
   "execution_count": 17,
   "id": "813bf140",
   "metadata": {},
   "outputs": [
    {
     "data": {
      "image/png": "[encoded data removed]",
      "text/plain": [
       "<Figure size 432x288 with 1 Axes>"
      ]
     },
     "metadata": {
      "needs_background": "light"
     },
     "output_type": "display_data"
    }
   ],
   "source": [
    "# Companies\n",
    "companies = (\"samsung\",\"Apple\",\"Google\")\n",
    "\n",
    "#Historical Market Share\n",
    "historical_market_share_samsung = 0.30\n",
    "historical_market_share_apple = 0.50\n",
    "historical_market_share_google = 0.20\n",
    "historical_shares = (historical_market_share_samsung,historical_market_share_apple,historical_market_share_google)\n",
    "\n",
    "# Sample Data Market Share\n",
    "predicted_market_share_samsung = 48/200\n",
    "predicted_market_share_apple = 98/200\n",
    "predicted_market_share_google = 54/200\n",
    "predicted_shares = (predicted_market_share_samsung,predicted_market_share_apple,predicted_market_share_google)\n",
    "\n",
    "# Bar position setup\n",
    "x = np.arange(len(companies))  # [0, 1, 2]\n",
    "width = 0.25  # width of the bars\n",
    "\n",
    "# Plotting\n",
    "fig, ax = plt.subplots()\n",
    "bars1 = ax.bar(x - width/2, historical_shares, width, label='Historical Market Shares', color='#FFCAB1')\n",
    "bars2 = ax.bar(x + width/2, predicted_shares, width, label='Predicted Market Shares', color='#A2C4C9')\n",
    "\n",
    "# Labels and title\n",
    "ax.set_ylabel('Market Share (%)')\n",
    "ax.set_title('Market Share Before vs After')\n",
    "ax.set_xticks(x)\n",
    "ax.set_xticklabels(companies)\n",
    "ax.legend()\n",
    "\n",
    "# Add value labels on top\n",
    "for bar in bars1 + bars2:\n",
    "    height = bar.get_height()\n",
    "    ax.annotate(f'{height}%',\n",
    "                xy=(bar.get_x() + bar.get_width() / 2, height),\n",
    "                xytext=(0, 3),  # vertical offset\n",
    "                textcoords=\"offset points\",\n",
    "                ha='center', va='bottom')\n",
    "\n",
    "# Show plot\n",
    "plt.tight_layout()\n",
    "plt.show()"
   ]
  },
  {
   "cell_type": "markdown",
   "id": "b585b15e",
   "metadata": {},
   "source": [
    "The above graph shows that market share for Google is likely to increase by 7.0%; additionally, the increase in market share for Google is likely to hurt Samsung more than Apple. "
   ]
  },
  {
   "cell_type": "code",
   "execution_count": null,
   "id": "96e2bb61",
   "metadata": {},
   "outputs": [],
   "source": []
  },
  {
   "cell_type": "code",
   "execution_count": null,
   "id": "f6a9397d",
   "metadata": {},
   "outputs": [],
   "source": []
  },
  {
   "cell_type": "code",
   "execution_count": null,
   "id": "ea09a350",
   "metadata": {},
   "outputs": [],
   "source": []
  }
 ],
 "metadata": {
  "kernelspec": {
   "display_name": "Python 3 (ipykernel)",
   "language": "python",
   "name": "python3"
  },
  "language_info": {
   "codemirror_mode": {
    "name": "ipython",
    "version": 3
   },
   "file_extension": ".py",
   "mimetype": "text/x-python",
   "name": "python",
   "nbconvert_exporter": "python",
   "pygments_lexer": "ipython3",
   "version": "3.9.12"
  }
 },
 "nbformat": 4,
 "nbformat_minor": 5
}
